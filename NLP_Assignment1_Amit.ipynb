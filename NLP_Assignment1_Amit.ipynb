{
 "cells": [
  {
   "cell_type": "code",
   "execution_count": 16,
   "metadata": {},
   "outputs": [
    {
     "name": "stdout",
     "output_type": "stream",
     "text": [
      "('gmail.com',)\n"
     ]
    }
   ],
   "source": [
    "# **Question 1.** Write a python program to find out the words after '@' from the below sentences with the use of regex.\n",
    "\n",
    "# \"xyz@gmail.com\",\n",
    "# \"abc@yahoo.com\",\n",
    "# \"xyz@hotmail.com\",\n",
    "# \"abc@ineuron.ai\",\n",
    "# \"xyz@outlook.com\"\n",
    "\n",
    "\n",
    "import re\n",
    "s =  \"xyz@gmail.com\"\n",
    "m = re.search('(?<=@)(.*)', s)\n",
    "print(m.groups())"
   ]
  },
  {
   "cell_type": "code",
   "execution_count": 4,
   "metadata": {},
   "outputs": [
    {
     "data": {
      "text/plain": [
       "'gmail.com'"
      ]
     },
     "execution_count": 4,
     "metadata": {},
     "output_type": "execute_result"
    }
   ],
   "source": [
    "mystring =  \"xyz@gmail.com\"\n",
    "keyword = '@'\n",
    "before_keyword, keyword, after_keyword = mystring.partition(keyword)\n",
    "after_keyword"
   ]
  },
  {
   "cell_type": "code",
   "execution_count": 20,
   "metadata": {},
   "outputs": [
    {
     "data": {
      "text/plain": [
       "['New']"
      ]
     },
     "execution_count": 20,
     "metadata": {},
     "output_type": "execute_result"
    }
   ],
   "source": [
    "# **Question 2.** Write a python program with the use of regex to take out the word \"New\" from the following sentence.\n",
    "\n",
    "# [\"New Delhi is the capital of India\"]\n",
    "\n",
    "\n",
    "import re\n",
    "str1 = \"New Delhi is the capital of India\"\n",
    "re.findall('New' ,str1)"
   ]
  },
  {
   "cell_type": "code",
   "execution_count": 21,
   "metadata": {},
   "outputs": [
    {
     "name": "stdout",
     "output_type": "stream",
     "text": [
      "final string :  in india,  people got affected with corona virus and  are died\n"
     ]
    }
   ],
   "source": [
    "# **Question 3.** Create one python program in which you have to lowercase the sentence first and than delete digits from the following sentence.\n",
    "\n",
    "# \"In India, 184 people got affected with Corona virus and 4 are died.\"\n",
    "\n",
    "\n",
    "ini_string = \"In India, 184 people got affected with Corona virus and 4 are died\"\n",
    "new_str = ini_string.lower()\n",
    "new_str\n",
    "res = \"\".join(filter(lambda x: not x.isdigit(), new_str))\n",
    "print(\"final string : \", str(res))\n"
   ]
  },
  {
   "cell_type": "code",
   "execution_count": 31,
   "metadata": {},
   "outputs": [
    {
     "data": {
      "text/plain": [
       "[('hope', 'NN'),\n",
       " ('built', 'VBN'),\n",
       " ('savings', 'NNS'),\n",
       " ('able', 'JJ'),\n",
       " ('travel', 'NN'),\n",
       " ('hawai', 'NN')]"
      ]
     },
     "execution_count": 31,
     "metadata": {},
     "output_type": "execute_result"
    }
   ],
   "source": [
    "# **Question 4.** Do stemming, lemmatization and tokenization from the following sentence.\n",
    "\n",
    "# \"I hope that, when I have built up my savings, I will be able to travel to Hawai.\"\n",
    "\n",
    "import nltk\n",
    "from nltk.corpus import stopwords\n",
    "stop_words = stopwords.words('english')\n",
    "import string\n",
    "punct = string.punctuation\n",
    "data = \"I hope that, when I have built up my savings, I will be able to travel to Hawai.\"\n",
    "clean_text = []\n",
    "for word in nltk.word_tokenize(data.lower()):\n",
    "    if word not in punct:\n",
    "        if word not in stop_words:\n",
    "            clean_text.append(word)\n",
    "nltk.pos_tag(clean_text)\n"
   ]
  },
  {
   "cell_type": "code",
   "execution_count": 43,
   "metadata": {},
   "outputs": [
    {
     "name": "stdout",
     "output_type": "stream",
     "text": [
      "snowball stemmer\n",
      "hope built save abl travel hawai\n",
      "hope built saving able travel hawai\n"
     ]
    }
   ],
   "source": [
    "#stemming\n",
    "\n",
    "from nltk.stem import SnowballStemmer\n",
    "snowball = SnowballStemmer('english')\n",
    "print('snowball stemmer')\n",
    "\n",
    "print(\" \".join([snowball.stem(words)for words in clean_text]))\n",
    "\n",
    "\n",
    "## Lemmatization\n",
    "\n",
    "from nltk.stem import WordNetLemmatizer\n",
    "lemma = WordNetLemmatizer()\n",
    "print(\" \".join([lemma.lemmatize(words)for words in clean_text]))"
   ]
  },
  {
   "cell_type": "code",
   "execution_count": 53,
   "metadata": {},
   "outputs": [
    {
     "name": "stdout",
     "output_type": "stream",
     "text": [
      "['I', 'l', 'N', 'n', 'y']\n"
     ]
    }
   ],
   "source": [
    "# **Question 5.** Create one python program from the following sentence.\n",
    "\n",
    "# \"I love NLP, not you\"\n",
    "\n",
    "# output : ['I', 'l', 'N', 'n', 'y']\n",
    "\n",
    "line = \"I love NLP, not you\"\n",
    "\n",
    "print([line.split(\" \")[i][0] for i in range(0,len(line.split(\" \")))])"
   ]
  },
  {
   "cell_type": "code",
   "execution_count": null,
   "metadata": {},
   "outputs": [],
   "source": [
    "\n",
    "\n"
   ]
  }
 ],
 "metadata": {
  "kernelspec": {
   "display_name": "Python 3",
   "language": "python",
   "name": "python3"
  },
  "language_info": {
   "codemirror_mode": {
    "name": "ipython",
    "version": 3
   },
   "file_extension": ".py",
   "mimetype": "text/x-python",
   "name": "python",
   "nbconvert_exporter": "python",
   "pygments_lexer": "ipython3",
   "version": "3.7.6"
  }
 },
 "nbformat": 4,
 "nbformat_minor": 4
}
