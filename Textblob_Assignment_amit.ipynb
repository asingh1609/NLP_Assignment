{
 "cells": [
  {
   "cell_type": "code",
   "execution_count": 5,
   "metadata": {},
   "outputs": [
    {
     "name": "stdout",
     "output_type": "stream",
     "text": [
      "[('Susie', 'NNP'), ('works', 'VBZ'), ('in', 'IN'), ('a', 'DT'), ('shoeshine', 'NN'), ('shop', 'NN'), ('Where', 'WRB'), ('she', 'PRP'), ('shines', 'VBZ'), ('she', 'PRP'), ('sits', 'VBZ'), ('and', 'CC'), ('where', 'WRB'), ('she', 'PRP'), ('sits', 'VBZ'), ('she', 'PRP'), ('shines', 'NNS')]\n"
     ]
    }
   ],
   "source": [
    "# **Question 1.** Write a python program using Textblob in which find out the parts-of-speech(pos) tagging from the following sentence.\n",
    "\n",
    "# \"Susie works in a shoeshine shop. Where she shines she sits, and where she sits she shines\"\n",
    "\n",
    "data = \"Susie works in a shoeshine shop. Where she shines she sits, and where she sits she shines\"\n",
    "from textblob import TextBlob\n",
    "text = TextBlob(data)\n",
    "print(text.tags)"
   ]
  },
  {
   "cell_type": "code",
   "execution_count": 6,
   "metadata": {},
   "outputs": [
    {
     "name": "stdout",
     "output_type": "stream",
     "text": [
      "4\n"
     ]
    }
   ],
   "source": [
    "# **Question 2.** Write a python program using the textblob to find out the count of the common words from the following sentence.\n",
    "\n",
    "# \"How much wood would a woodchuck chuck if a woodchuck could chuck wood?\n",
    "# He would chuck, he would, as much as he could, and chuck as much wood\n",
    "# As a woodchuck would if a woodchuck could chuck wood\"\n",
    "# Find it out how many times 'wood' came in the sentence.\n",
    "\n",
    "sent = \"How much wood would a woodchuck chuck if a woodchuck could chuck wood? He would chuck, he would, as much as he could, and chuck as much wood As a woodchuck would if a woodchuck could chuck wood\"\n",
    "text = TextBlob(sent)\n",
    "text = text.word_counts['wood']\n",
    "print(text)\n",
    "\n",
    "\n",
    "\n"
   ]
  },
  {
   "cell_type": "code",
   "execution_count": 7,
   "metadata": {},
   "outputs": [
    {
     "data": {
      "text/plain": [
       "TextBlob(\"डेटा एक नया तेल है। \",\" A.I अंतिम आविष्कार है \",\" वह समुंदर का किनारा बेचती है \",\" उसने तीन मुफ्त फेंके\")"
      ]
     },
     "execution_count": 7,
     "metadata": {},
     "output_type": "execute_result"
    }
   ],
   "source": [
    "# **Question 3.** Translate the following sentences in your own language using the textblob.\n",
    "\n",
    "# \"Data is a new oil.\", \"A.I is the last invention\", \"She sells seashells by the seashore\", \"He threw three free throws\".\n",
    "\n",
    "blob = TextBlob('Data is a new oil.\", \"A.I is the last invention\", \"She sells seashells by the seashore\", \"He threw three free throws')\n",
    "blob.translate(to ='hi')\n"
   ]
  },
  {
   "cell_type": "code",
   "execution_count": 10,
   "metadata": {},
   "outputs": [
    {
     "data": {
      "text/plain": [
       "[('remove', 1.0)]"
      ]
     },
     "execution_count": 10,
     "metadata": {},
     "output_type": "execute_result"
    }
   ],
   "source": [
    "# **Question 4.** Create a spell checker program using the textblob library with using your own sentences.\n",
    "from textblob import Word\n",
    "g = Word('remov')\n",
    "g.spellcheck()"
   ]
  },
  {
   "cell_type": "code",
   "execution_count": null,
   "metadata": {},
   "outputs": [],
   "source": []
  }
 ],
 "metadata": {
  "kernelspec": {
   "display_name": "Python 3",
   "language": "python",
   "name": "python3"
  },
  "language_info": {
   "codemirror_mode": {
    "name": "ipython",
    "version": 3
   },
   "file_extension": ".py",
   "mimetype": "text/x-python",
   "name": "python",
   "nbconvert_exporter": "python",
   "pygments_lexer": "ipython3",
   "version": "3.7.6"
  }
 },
 "nbformat": 4,
 "nbformat_minor": 4
}
